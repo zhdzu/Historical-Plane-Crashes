{
 "cells": [
  {
   "cell_type": "code",
   "execution_count": 1,
   "metadata": {},
   "outputs": [],
   "source": [
    "import pandas as pd\n",
    "import numpy as np\n",
    "import matplotlib.pyplot as plt\n",
    "# 读入数据，文件中含有中文名，故采用下面方式读取\n",
    "path = r'C:\\Users\\Administrator\\Desktop\\大数据学院\\统计软件\\期末资料\\UCI经典二分类数据集\\credit6000_126.csv'\n",
    "f = open(path)\n",
    "credit=pd.read_csv(f,header=None)"
   ]
  },
  {
   "cell_type": "code",
   "execution_count": 2,
   "metadata": {},
   "outputs": [
    {
     "data": {
      "text/html": [
       "<div>\n",
       "<style scoped>\n",
       "    .dataframe tbody tr th:only-of-type {\n",
       "        vertical-align: middle;\n",
       "    }\n",
       "\n",
       "    .dataframe tbody tr th {\n",
       "        vertical-align: top;\n",
       "    }\n",
       "\n",
       "    .dataframe thead th {\n",
       "        text-align: right;\n",
       "    }\n",
       "</style>\n",
       "<table border=\"1\" class=\"dataframe\">\n",
       "  <thead>\n",
       "    <tr style=\"text-align: right;\">\n",
       "      <th></th>\n",
       "      <th>0</th>\n",
       "      <th>1</th>\n",
       "      <th>2</th>\n",
       "      <th>3</th>\n",
       "      <th>4</th>\n",
       "      <th>5</th>\n",
       "      <th>6</th>\n",
       "      <th>7</th>\n",
       "      <th>8</th>\n",
       "      <th>9</th>\n",
       "      <th>...</th>\n",
       "      <th>56</th>\n",
       "      <th>57</th>\n",
       "      <th>58</th>\n",
       "      <th>59</th>\n",
       "      <th>60</th>\n",
       "      <th>61</th>\n",
       "      <th>62</th>\n",
       "      <th>63</th>\n",
       "      <th>64</th>\n",
       "      <th>65</th>\n",
       "    </tr>\n",
       "  </thead>\n",
       "  <tbody>\n",
       "    <tr>\n",
       "      <th>0</th>\n",
       "      <td>8.4386</td>\n",
       "      <td>0.70572</td>\n",
       "      <td>130.24</td>\n",
       "      <td>1.3021</td>\n",
       "      <td>4.6052</td>\n",
       "      <td>4.7593</td>\n",
       "      <td>4.6052</td>\n",
       "      <td>0.0000</td>\n",
       "      <td>4.6052</td>\n",
       "      <td>0.0000</td>\n",
       "      <td>...</td>\n",
       "      <td>4.3531</td>\n",
       "      <td>1.0346</td>\n",
       "      <td>3.4012</td>\n",
       "      <td>0.0</td>\n",
       "      <td>0</td>\n",
       "      <td>0</td>\n",
       "      <td>2.0898</td>\n",
       "      <td>6.2893</td>\n",
       "      <td>1.0000</td>\n",
       "      <td>1</td>\n",
       "    </tr>\n",
       "    <tr>\n",
       "      <th>1</th>\n",
       "      <td>8.4251</td>\n",
       "      <td>0.00000</td>\n",
       "      <td>31.16</td>\n",
       "      <td>1.3596</td>\n",
       "      <td>4.6052</td>\n",
       "      <td>4.5884</td>\n",
       "      <td>4.6052</td>\n",
       "      <td>0.0000</td>\n",
       "      <td>5.2983</td>\n",
       "      <td>0.0000</td>\n",
       "      <td>...</td>\n",
       "      <td>2.9957</td>\n",
       "      <td>0.5000</td>\n",
       "      <td>4.6052</td>\n",
       "      <td>0.0</td>\n",
       "      <td>0</td>\n",
       "      <td>0</td>\n",
       "      <td>2.1450</td>\n",
       "      <td>6.7921</td>\n",
       "      <td>1.0000</td>\n",
       "      <td>1</td>\n",
       "    </tr>\n",
       "    <tr>\n",
       "      <th>2</th>\n",
       "      <td>7.6202</td>\n",
       "      <td>1.31520</td>\n",
       "      <td>0.00</td>\n",
       "      <td>2.0334</td>\n",
       "      <td>4.0372</td>\n",
       "      <td>3.7534</td>\n",
       "      <td>4.4427</td>\n",
       "      <td>0.0000</td>\n",
       "      <td>0.0000</td>\n",
       "      <td>0.0000</td>\n",
       "      <td>...</td>\n",
       "      <td>2.9957</td>\n",
       "      <td>0.5000</td>\n",
       "      <td>4.4998</td>\n",
       "      <td>0.0</td>\n",
       "      <td>0</td>\n",
       "      <td>0</td>\n",
       "      <td>2.2959</td>\n",
       "      <td>6.3045</td>\n",
       "      <td>1.0000</td>\n",
       "      <td>1</td>\n",
       "    </tr>\n",
       "    <tr>\n",
       "      <th>3</th>\n",
       "      <td>8.0736</td>\n",
       "      <td>2.51090</td>\n",
       "      <td>0.00</td>\n",
       "      <td>2.1634</td>\n",
       "      <td>4.5072</td>\n",
       "      <td>4.5200</td>\n",
       "      <td>4.2047</td>\n",
       "      <td>0.0000</td>\n",
       "      <td>4.2195</td>\n",
       "      <td>0.0000</td>\n",
       "      <td>...</td>\n",
       "      <td>8.6981</td>\n",
       "      <td>4.1945</td>\n",
       "      <td>0.0000</td>\n",
       "      <td>0.0</td>\n",
       "      <td>0</td>\n",
       "      <td>0</td>\n",
       "      <td>2.1638</td>\n",
       "      <td>5.8942</td>\n",
       "      <td>7.7401</td>\n",
       "      <td>1</td>\n",
       "    </tr>\n",
       "    <tr>\n",
       "      <th>4</th>\n",
       "      <td>6.7745</td>\n",
       "      <td>3.71360</td>\n",
       "      <td>0.00</td>\n",
       "      <td>2.3858</td>\n",
       "      <td>3.0445</td>\n",
       "      <td>3.1355</td>\n",
       "      <td>0.0000</td>\n",
       "      <td>2.9443</td>\n",
       "      <td>0.0000</td>\n",
       "      <td>2.9444</td>\n",
       "      <td>...</td>\n",
       "      <td>8.0146</td>\n",
       "      <td>4.3653</td>\n",
       "      <td>0.0000</td>\n",
       "      <td>0.0</td>\n",
       "      <td>2</td>\n",
       "      <td>0</td>\n",
       "      <td>2.3026</td>\n",
       "      <td>4.1733</td>\n",
       "      <td>5.4994</td>\n",
       "      <td>1</td>\n",
       "    </tr>\n",
       "  </tbody>\n",
       "</table>\n",
       "<p>5 rows × 66 columns</p>\n",
       "</div>"
      ],
      "text/plain": [
       "       0        1       2       3       4       5       6       7       8   \\\n",
       "0  8.4386  0.70572  130.24  1.3021  4.6052  4.7593  4.6052  0.0000  4.6052   \n",
       "1  8.4251  0.00000   31.16  1.3596  4.6052  4.5884  4.6052  0.0000  5.2983   \n",
       "2  7.6202  1.31520    0.00  2.0334  4.0372  3.7534  4.4427  0.0000  0.0000   \n",
       "3  8.0736  2.51090    0.00  2.1634  4.5072  4.5200  4.2047  0.0000  4.2195   \n",
       "4  6.7745  3.71360    0.00  2.3858  3.0445  3.1355  0.0000  2.9443  0.0000   \n",
       "\n",
       "       9  ...      56      57      58   59  60  61      62      63      64  65  \n",
       "0  0.0000 ...  4.3531  1.0346  3.4012  0.0   0   0  2.0898  6.2893  1.0000   1  \n",
       "1  0.0000 ...  2.9957  0.5000  4.6052  0.0   0   0  2.1450  6.7921  1.0000   1  \n",
       "2  0.0000 ...  2.9957  0.5000  4.4998  0.0   0   0  2.2959  6.3045  1.0000   1  \n",
       "3  0.0000 ...  8.6981  4.1945  0.0000  0.0   0   0  2.1638  5.8942  7.7401   1  \n",
       "4  2.9444 ...  8.0146  4.3653  0.0000  0.0   2   0  2.3026  4.1733  5.4994   1  \n",
       "\n",
       "[5 rows x 66 columns]"
      ]
     },
     "execution_count": 2,
     "metadata": {},
     "output_type": "execute_result"
    }
   ],
   "source": [
    "credit.head()"
   ]
  },
  {
   "cell_type": "code",
   "execution_count": 3,
   "metadata": {},
   "outputs": [
    {
     "name": "stdout",
     "output_type": "stream",
     "text": [
      "<class 'pandas.core.frame.DataFrame'>\n",
      "RangeIndex: 6000 entries, 0 to 5999\n",
      "Data columns (total 66 columns):\n",
      "0     6000 non-null float64\n",
      "1     6000 non-null float64\n",
      "2     6000 non-null float64\n",
      "3     6000 non-null float64\n",
      "4     6000 non-null float64\n",
      "5     6000 non-null float64\n",
      "6     6000 non-null float64\n",
      "7     6000 non-null float64\n",
      "8     6000 non-null float64\n",
      "9     6000 non-null float64\n",
      "10    6000 non-null float64\n",
      "11    6000 non-null float64\n",
      "12    6000 non-null float64\n",
      "13    6000 non-null float64\n",
      "14    6000 non-null float64\n",
      "15    6000 non-null float64\n",
      "16    6000 non-null int64\n",
      "17    6000 non-null int64\n",
      "18    6000 non-null float64\n",
      "19    6000 non-null float64\n",
      "20    6000 non-null int64\n",
      "21    6000 non-null int64\n",
      "22    6000 non-null float64\n",
      "23    6000 non-null float64\n",
      "24    6000 non-null float64\n",
      "25    6000 non-null float64\n",
      "26    6000 non-null float64\n",
      "27    6000 non-null float64\n",
      "28    6000 non-null float64\n",
      "29    6000 non-null float64\n",
      "30    6000 non-null float64\n",
      "31    6000 non-null float64\n",
      "32    6000 non-null float64\n",
      "33    6000 non-null float64\n",
      "34    6000 non-null float64\n",
      "35    6000 non-null float64\n",
      "36    6000 non-null float64\n",
      "37    6000 non-null float64\n",
      "38    6000 non-null float64\n",
      "39    6000 non-null float64\n",
      "40    6000 non-null int64\n",
      "41    6000 non-null float64\n",
      "42    6000 non-null float64\n",
      "43    6000 non-null int64\n",
      "44    6000 non-null float64\n",
      "45    6000 non-null float64\n",
      "46    6000 non-null float64\n",
      "47    6000 non-null float64\n",
      "48    6000 non-null float64\n",
      "49    6000 non-null int64\n",
      "50    6000 non-null int64\n",
      "51    6000 non-null float64\n",
      "52    6000 non-null int64\n",
      "53    6000 non-null float64\n",
      "54    6000 non-null float64\n",
      "55    6000 non-null int64\n",
      "56    6000 non-null float64\n",
      "57    6000 non-null float64\n",
      "58    6000 non-null float64\n",
      "59    6000 non-null float64\n",
      "60    6000 non-null int64\n",
      "61    6000 non-null int64\n",
      "62    6000 non-null float64\n",
      "63    6000 non-null float64\n",
      "64    6000 non-null float64\n",
      "65    6000 non-null int64\n",
      "dtypes: float64(53), int64(13)\n",
      "memory usage: 3.0 MB\n"
     ]
    }
   ],
   "source": [
    "credit.info()"
   ]
  },
  {
   "cell_type": "code",
   "execution_count": 4,
   "metadata": {},
   "outputs": [
    {
     "data": {
      "text/html": [
       "<div>\n",
       "<style scoped>\n",
       "    .dataframe tbody tr th:only-of-type {\n",
       "        vertical-align: middle;\n",
       "    }\n",
       "\n",
       "    .dataframe tbody tr th {\n",
       "        vertical-align: top;\n",
       "    }\n",
       "\n",
       "    .dataframe thead th {\n",
       "        text-align: right;\n",
       "    }\n",
       "</style>\n",
       "<table border=\"1\" class=\"dataframe\">\n",
       "  <thead>\n",
       "    <tr style=\"text-align: right;\">\n",
       "      <th></th>\n",
       "      <th>0</th>\n",
       "      <th>1</th>\n",
       "      <th>2</th>\n",
       "      <th>3</th>\n",
       "      <th>4</th>\n",
       "      <th>5</th>\n",
       "      <th>6</th>\n",
       "      <th>7</th>\n",
       "      <th>8</th>\n",
       "      <th>9</th>\n",
       "      <th>...</th>\n",
       "      <th>56</th>\n",
       "      <th>57</th>\n",
       "      <th>58</th>\n",
       "      <th>59</th>\n",
       "      <th>60</th>\n",
       "      <th>61</th>\n",
       "      <th>62</th>\n",
       "      <th>63</th>\n",
       "      <th>64</th>\n",
       "      <th>65</th>\n",
       "    </tr>\n",
       "  </thead>\n",
       "  <tbody>\n",
       "    <tr>\n",
       "      <th>count</th>\n",
       "      <td>6000.000000</td>\n",
       "      <td>6000.000000</td>\n",
       "      <td>6000.000000</td>\n",
       "      <td>6000.000000</td>\n",
       "      <td>6000.000000</td>\n",
       "      <td>6000.000000</td>\n",
       "      <td>6000.000000</td>\n",
       "      <td>6000.000000</td>\n",
       "      <td>6000.000000</td>\n",
       "      <td>6000.000000</td>\n",
       "      <td>...</td>\n",
       "      <td>6000.000000</td>\n",
       "      <td>6000.000000</td>\n",
       "      <td>6000.000000</td>\n",
       "      <td>6000.000000</td>\n",
       "      <td>6000.000000</td>\n",
       "      <td>6000.0000</td>\n",
       "      <td>6000.000000</td>\n",
       "      <td>6000.000000</td>\n",
       "      <td>6000.000000</td>\n",
       "      <td>6000.000000</td>\n",
       "    </tr>\n",
       "    <tr>\n",
       "      <th>mean</th>\n",
       "      <td>6.775281</td>\n",
       "      <td>1.945099</td>\n",
       "      <td>243.601963</td>\n",
       "      <td>3.087651</td>\n",
       "      <td>4.041039</td>\n",
       "      <td>4.181983</td>\n",
       "      <td>3.564094</td>\n",
       "      <td>0.127925</td>\n",
       "      <td>3.480633</td>\n",
       "      <td>0.137962</td>\n",
       "      <td>...</td>\n",
       "      <td>7.205984</td>\n",
       "      <td>3.427288</td>\n",
       "      <td>0.735944</td>\n",
       "      <td>0.225506</td>\n",
       "      <td>1.124500</td>\n",
       "      <td>0.3585</td>\n",
       "      <td>1.242113</td>\n",
       "      <td>3.272034</td>\n",
       "      <td>6.138883</td>\n",
       "      <td>-0.680000</td>\n",
       "    </tr>\n",
       "    <tr>\n",
       "      <th>std</th>\n",
       "      <td>1.554231</td>\n",
       "      <td>1.513040</td>\n",
       "      <td>450.860271</td>\n",
       "      <td>1.966704</td>\n",
       "      <td>1.967858</td>\n",
       "      <td>1.891913</td>\n",
       "      <td>2.282198</td>\n",
       "      <td>0.573166</td>\n",
       "      <td>2.294475</td>\n",
       "      <td>0.595292</td>\n",
       "      <td>...</td>\n",
       "      <td>1.961628</td>\n",
       "      <td>1.450201</td>\n",
       "      <td>1.450002</td>\n",
       "      <td>0.687480</td>\n",
       "      <td>0.703621</td>\n",
       "      <td>0.4796</td>\n",
       "      <td>1.041874</td>\n",
       "      <td>2.960438</td>\n",
       "      <td>3.645952</td>\n",
       "      <td>0.733273</td>\n",
       "    </tr>\n",
       "    <tr>\n",
       "      <th>min</th>\n",
       "      <td>4.605200</td>\n",
       "      <td>0.000000</td>\n",
       "      <td>0.000000</td>\n",
       "      <td>1.000000</td>\n",
       "      <td>0.000000</td>\n",
       "      <td>0.000000</td>\n",
       "      <td>0.000000</td>\n",
       "      <td>0.000000</td>\n",
       "      <td>0.000000</td>\n",
       "      <td>0.000000</td>\n",
       "      <td>...</td>\n",
       "      <td>2.995700</td>\n",
       "      <td>0.500000</td>\n",
       "      <td>0.000000</td>\n",
       "      <td>0.000000</td>\n",
       "      <td>0.000000</td>\n",
       "      <td>0.0000</td>\n",
       "      <td>0.000000</td>\n",
       "      <td>0.000000</td>\n",
       "      <td>1.000000</td>\n",
       "      <td>-1.000000</td>\n",
       "    </tr>\n",
       "    <tr>\n",
       "      <th>25%</th>\n",
       "      <td>4.994850</td>\n",
       "      <td>0.325777</td>\n",
       "      <td>0.000000</td>\n",
       "      <td>1.000000</td>\n",
       "      <td>3.588000</td>\n",
       "      <td>3.721700</td>\n",
       "      <td>0.000000</td>\n",
       "      <td>0.000000</td>\n",
       "      <td>0.000000</td>\n",
       "      <td>0.000000</td>\n",
       "      <td>...</td>\n",
       "      <td>6.214600</td>\n",
       "      <td>2.488325</td>\n",
       "      <td>0.000000</td>\n",
       "      <td>0.000000</td>\n",
       "      <td>1.000000</td>\n",
       "      <td>0.0000</td>\n",
       "      <td>0.000000</td>\n",
       "      <td>0.000000</td>\n",
       "      <td>2.372100</td>\n",
       "      <td>-1.000000</td>\n",
       "    </tr>\n",
       "    <tr>\n",
       "      <th>50%</th>\n",
       "      <td>7.094850</td>\n",
       "      <td>1.979350</td>\n",
       "      <td>18.768500</td>\n",
       "      <td>2.334800</td>\n",
       "      <td>4.480300</td>\n",
       "      <td>4.573450</td>\n",
       "      <td>4.317500</td>\n",
       "      <td>0.000000</td>\n",
       "      <td>4.275550</td>\n",
       "      <td>0.000000</td>\n",
       "      <td>...</td>\n",
       "      <td>7.899000</td>\n",
       "      <td>4.221050</td>\n",
       "      <td>0.000000</td>\n",
       "      <td>0.000000</td>\n",
       "      <td>1.000000</td>\n",
       "      <td>0.0000</td>\n",
       "      <td>1.877900</td>\n",
       "      <td>3.253100</td>\n",
       "      <td>6.304850</td>\n",
       "      <td>-1.000000</td>\n",
       "    </tr>\n",
       "    <tr>\n",
       "      <th>75%</th>\n",
       "      <td>8.127175</td>\n",
       "      <td>3.713600</td>\n",
       "      <td>276.572500</td>\n",
       "      <td>5.567800</td>\n",
       "      <td>5.216825</td>\n",
       "      <td>5.312600</td>\n",
       "      <td>5.106000</td>\n",
       "      <td>0.000000</td>\n",
       "      <td>5.062700</td>\n",
       "      <td>0.000000</td>\n",
       "      <td>...</td>\n",
       "      <td>8.770125</td>\n",
       "      <td>4.595650</td>\n",
       "      <td>0.000000</td>\n",
       "      <td>0.000000</td>\n",
       "      <td>2.000000</td>\n",
       "      <td>1.0000</td>\n",
       "      <td>2.208325</td>\n",
       "      <td>6.245625</td>\n",
       "      <td>10.050000</td>\n",
       "      <td>-1.000000</td>\n",
       "    </tr>\n",
       "    <tr>\n",
       "      <th>max</th>\n",
       "      <td>9.624500</td>\n",
       "      <td>3.713600</td>\n",
       "      <td>2000.000000</td>\n",
       "      <td>5.567800</td>\n",
       "      <td>6.907800</td>\n",
       "      <td>6.907800</td>\n",
       "      <td>6.907800</td>\n",
       "      <td>2.995600</td>\n",
       "      <td>6.907800</td>\n",
       "      <td>2.999700</td>\n",
       "      <td>...</td>\n",
       "      <td>10.596000</td>\n",
       "      <td>4.615100</td>\n",
       "      <td>5.000000</td>\n",
       "      <td>2.995700</td>\n",
       "      <td>2.000000</td>\n",
       "      <td>1.0000</td>\n",
       "      <td>2.302600</td>\n",
       "      <td>10.000000</td>\n",
       "      <td>10.050000</td>\n",
       "      <td>1.000000</td>\n",
       "    </tr>\n",
       "  </tbody>\n",
       "</table>\n",
       "<p>8 rows × 66 columns</p>\n",
       "</div>"
      ],
      "text/plain": [
       "                0            1            2            3            4   \\\n",
       "count  6000.000000  6000.000000  6000.000000  6000.000000  6000.000000   \n",
       "mean      6.775281     1.945099   243.601963     3.087651     4.041039   \n",
       "std       1.554231     1.513040   450.860271     1.966704     1.967858   \n",
       "min       4.605200     0.000000     0.000000     1.000000     0.000000   \n",
       "25%       4.994850     0.325777     0.000000     1.000000     3.588000   \n",
       "50%       7.094850     1.979350    18.768500     2.334800     4.480300   \n",
       "75%       8.127175     3.713600   276.572500     5.567800     5.216825   \n",
       "max       9.624500     3.713600  2000.000000     5.567800     6.907800   \n",
       "\n",
       "                5            6            7            8            9   \\\n",
       "count  6000.000000  6000.000000  6000.000000  6000.000000  6000.000000   \n",
       "mean      4.181983     3.564094     0.127925     3.480633     0.137962   \n",
       "std       1.891913     2.282198     0.573166     2.294475     0.595292   \n",
       "min       0.000000     0.000000     0.000000     0.000000     0.000000   \n",
       "25%       3.721700     0.000000     0.000000     0.000000     0.000000   \n",
       "50%       4.573450     4.317500     0.000000     4.275550     0.000000   \n",
       "75%       5.312600     5.106000     0.000000     5.062700     0.000000   \n",
       "max       6.907800     6.907800     2.995600     6.907800     2.999700   \n",
       "\n",
       "          ...                56           57           58           59  \\\n",
       "count     ...       6000.000000  6000.000000  6000.000000  6000.000000   \n",
       "mean      ...          7.205984     3.427288     0.735944     0.225506   \n",
       "std       ...          1.961628     1.450201     1.450002     0.687480   \n",
       "min       ...          2.995700     0.500000     0.000000     0.000000   \n",
       "25%       ...          6.214600     2.488325     0.000000     0.000000   \n",
       "50%       ...          7.899000     4.221050     0.000000     0.000000   \n",
       "75%       ...          8.770125     4.595650     0.000000     0.000000   \n",
       "max       ...         10.596000     4.615100     5.000000     2.995700   \n",
       "\n",
       "                60         61           62           63           64  \\\n",
       "count  6000.000000  6000.0000  6000.000000  6000.000000  6000.000000   \n",
       "mean      1.124500     0.3585     1.242113     3.272034     6.138883   \n",
       "std       0.703621     0.4796     1.041874     2.960438     3.645952   \n",
       "min       0.000000     0.0000     0.000000     0.000000     1.000000   \n",
       "25%       1.000000     0.0000     0.000000     0.000000     2.372100   \n",
       "50%       1.000000     0.0000     1.877900     3.253100     6.304850   \n",
       "75%       2.000000     1.0000     2.208325     6.245625    10.050000   \n",
       "max       2.000000     1.0000     2.302600    10.000000    10.050000   \n",
       "\n",
       "                65  \n",
       "count  6000.000000  \n",
       "mean     -0.680000  \n",
       "std       0.733273  \n",
       "min      -1.000000  \n",
       "25%      -1.000000  \n",
       "50%      -1.000000  \n",
       "75%      -1.000000  \n",
       "max       1.000000  \n",
       "\n",
       "[8 rows x 66 columns]"
      ]
     },
     "execution_count": 4,
     "metadata": {},
     "output_type": "execute_result"
    }
   ],
   "source": [
    "credit.describe()"
   ]
  },
  {
   "cell_type": "code",
   "execution_count": 5,
   "metadata": {},
   "outputs": [
    {
     "data": {
      "text/plain": [
       "-1    5040\n",
       " 1     960\n",
       "Name: 65, dtype: int64"
      ]
     },
     "execution_count": 5,
     "metadata": {},
     "output_type": "execute_result"
    }
   ],
   "source": [
    "credit[65].value_counts()"
   ]
  },
  {
   "cell_type": "code",
   "execution_count": 6,
   "metadata": {},
   "outputs": [
    {
     "name": "stdout",
     "output_type": "stream",
     "text": [
      "dimennsion of credit data:(6000, 66)\n"
     ]
    }
   ],
   "source": [
    "print(\"dimennsion of credit data:{}\".format(credit.shape))"
   ]
  },
  {
   "cell_type": "code",
   "execution_count": 8,
   "metadata": {},
   "outputs": [
    {
     "data": {
      "text/plain": [
       "<matplotlib.axes._subplots.AxesSubplot at 0xb38dcf8>"
      ]
     },
     "execution_count": 8,
     "metadata": {},
     "output_type": "execute_result"
    },
    {
     "data": {
      "image/png": "[encoded data removed]",
      "text/plain": [
       "<Figure size 432x288 with 1 Axes>"
      ]
     },
     "metadata": {},
     "output_type": "display_data"
    }
   ],
   "source": [
    "import seaborn as sns\n",
    "sns.set(style=\"darkgrid\")\n",
    "sns.countplot(credit[65])"
   ]
  },
  {
   "cell_type": "code",
   "execution_count": 9,
   "metadata": {},
   "outputs": [],
   "source": [
    "# split the data\n",
    "from sklearn.model_selection import train_test_split\n",
    "X_train, X_test, y_train, y_test = train_test_split(credit.loc[:,credit.columns != 65], credit[65],\n",
    "                                                    stratify=credit[65], random_state=0)"
   ]
  },
  {
   "cell_type": "code",
   "execution_count": 10,
   "metadata": {},
   "outputs": [
    {
     "name": "stdout",
     "output_type": "stream",
     "text": [
      "Training set accuracy: 0.859\n",
      "Test set accuracy: 0.857\n"
     ]
    }
   ],
   "source": [
    "# LR Algorithm\n",
    "# LogisticRegression和LogisticRegressionCV的主要区别是LogisticRegressionCV使用了交叉验证来选择正则化系数C。\n",
    "# 而LogisticRegression需要自己每次指定一个正则化系数，且其默认带了正则化项。\n",
    "# L1：solver='liblinear' 梯度下降，小数据集\n",
    "# L2：solver='liblinear','sag','newton-cg','lbfgs' 前两个梯度下降，后两个牛顿法，sag适用于超大数据集\n",
    "# multi_class='ovr' default，二元分类； multi_class='multinomial' 多元分类\n",
    "# 样本是高度失衡的，class_weight='balanced',让类库自动提高非法用户样本的权重\n",
    "# C为正则化系数λ的倒数 default=1 （交叉验证就是 Cs）\n",
    "\n",
    "from sklearn.linear_model import LogisticRegression\n",
    "\n",
    "# LR default parameter\n",
    "logreg = LogisticRegression(random_state=0,solver='liblinear').fit(X_train, y_train)\n",
    "print(\"Training set accuracy: {:.3f}\".format(logreg.score(X_train, y_train)))\n",
    "print(\"Test set accuracy: {:.3f}\".format(logreg.score(X_test, y_test)))"
   ]
  },
  {
   "cell_type": "code",
   "execution_count": 11,
   "metadata": {},
   "outputs": [
    {
     "name": "stdout",
     "output_type": "stream",
     "text": [
      "Training set accuracy: 0.857\n",
      "Test set accuracy: 0.841\n"
     ]
    }
   ],
   "source": [
    "from sklearn.linear_model import LogisticRegressionCV\n",
    "\n",
    "# LR default parameter\n",
    "logreg1 = LogisticRegressionCV(cv=5,random_state=1,solver='liblinear').fit(X_train, y_train)\n",
    "print(\"Training set accuracy: {:.3f}\".format(logreg1.score(X_train, y_train)))\n",
    "print(\"Test set accuracy: {:.3f}\".format(logreg1.score(X_test, y_test)))"
   ]
  },
  {
   "cell_type": "code",
   "execution_count": 12,
   "metadata": {},
   "outputs": [
    {
     "data": {
      "image/png": "[encoded data removed]",
      "text/plain": [
       "<Figure size 432x288 with 1 Axes>"
      ]
     },
     "metadata": {},
     "output_type": "display_data"
    }
   ],
   "source": [
    "# KNN Algorithm\n",
    "from sklearn.neighbors import KNeighborsClassifier\n",
    "\n",
    "training_accuracy = []\n",
    "test_accuracy = []\n",
    "# try n_neighbors from 1 to 10\n",
    "neighbors_settings = range(1, 11)\n",
    "\n",
    "for n_neighbors in neighbors_settings:\n",
    "    knn = KNeighborsClassifier(n_neighbors=n_neighbors)\n",
    "    knn.fit(X_train, y_train)\n",
    "    # record training set accuracy and test set accuracy\n",
    "    training_accuracy.append(knn.score(X_train, y_train))\n",
    "    test_accuracy.append(knn.score(X_test, y_test))\n",
    "\n",
    "plt.plot(neighbors_settings, training_accuracy, label=\"training accuracy\")\n",
    "plt.plot(neighbors_settings, test_accuracy, label=\"test accuracy\")\n",
    "plt.ylabel(\"Accuracy\")\n",
    "plt.xlabel(\"n_neighbors\")\n",
    "plt.legend()\n",
    "plt.savefig('knn_compare_model')"
   ]
  },
  {
   "cell_type": "code",
   "execution_count": 13,
   "metadata": {},
   "outputs": [
    {
     "name": "stdout",
     "output_type": "stream",
     "text": [
      "Accuracy of K-NN classifier on training set: 0.86\n",
      "Accuracy of K-NN classifier on test set: 0.83\n"
     ]
    }
   ],
   "source": [
    "# The best performance is somewhere around 9 neighbors\n",
    "knn = KNeighborsClassifier(n_neighbors=9)\n",
    "knn.fit(X_train, y_train)\n",
    "print('Accuracy of K-NN classifier on training set: {:.2f}'.format(knn.score(X_train, y_train)))\n",
    "print('Accuracy of K-NN classifier on test set: {:.2f}'.format(knn.score(X_test, y_test)))"
   ]
  },
  {
   "cell_type": "code",
   "execution_count": 14,
   "metadata": {},
   "outputs": [
    {
     "name": "stdout",
     "output_type": "stream",
     "text": [
      "Accuracy on training set: 1.000\n",
      "Accuracy on test set: 0.791\n"
     ]
    }
   ],
   "source": [
    "# Decision Tree\n",
    "from sklearn.tree import DecisionTreeClassifier\n",
    "\n",
    "tree = DecisionTreeClassifier(random_state=0)\n",
    "tree.fit(X_train, y_train)\n",
    "print(\"Accuracy on training set: {:.3f}\".format(tree.score(X_train, y_train)))\n",
    "print(\"Accuracy on test set: {:.3f}\".format(tree.score(X_test, y_test)))"
   ]
  },
  {
   "cell_type": "code",
   "execution_count": 15,
   "metadata": {},
   "outputs": [
    {
     "data": {
      "image/png": "[encoded data removed]",
      "text/plain": [
       "<Figure size 576x432 with 1 Axes>"
      ]
     },
     "metadata": {},
     "output_type": "display_data"
    }
   ],
   "source": [
    "# visualize the feature importances\n",
    "def plot_feature_importances_diabetes(model):\n",
    "    plt.figure(figsize=(8,6))\n",
    "    n_features = 65\n",
    "    plt.barh(range(n_features), model.feature_importances_, align='center')\n",
    "    plt.xlabel(\"Feature importance\")\n",
    "    plt.ylabel(\"Feature\")\n",
    "    plt.ylim(-1, n_features)\n",
    "\n",
    "plot_feature_importances_diabetes(tree)\n",
    "plt.savefig('feature_importance')"
   ]
  },
  {
   "cell_type": "code",
   "execution_count": 16,
   "metadata": {},
   "outputs": [
    {
     "data": {
      "text/plain": [
       "array([0.01502585, 0.02449808, 0.01732948, 0.01319774, 0.00929058,\n",
       "       0.01427715, 0.01351573, 0.00192582, 0.01400976, 0.00045054,\n",
       "       0.00584174, 0.0079896 , 0.00751653, 0.0160385 , 0.        ,\n",
       "       0.01765405, 0.        , 0.0008274 , 0.00896164, 0.04044118,\n",
       "       0.        , 0.00381055, 0.01274773, 0.00612083, 0.00700847,\n",
       "       0.0034751 , 0.02514391, 0.04020505, 0.01884664, 0.0350569 ,\n",
       "       0.00648086, 0.01547137, 0.00599238, 0.03067303, 0.00339382,\n",
       "       0.0215401 , 0.01191354, 0.02268732, 0.01048398, 0.00459652,\n",
       "       0.        , 0.00454875, 0.01229158, 0.        , 0.01060934,\n",
       "       0.00605354, 0.03965256, 0.02904763, 0.00036322, 0.00297737,\n",
       "       0.00070011, 0.01049039, 0.        , 0.00422903, 0.02273009,\n",
       "       0.        , 0.01642351, 0.23984931, 0.01472002, 0.0011032 ,\n",
       "       0.01027967, 0.        , 0.01547214, 0.03061376, 0.01340527])"
      ]
     },
     "execution_count": 16,
     "metadata": {},
     "output_type": "execute_result"
    }
   ],
   "source": [
    "tree.feature_importances_"
   ]
  },
  {
   "cell_type": "code",
   "execution_count": 17,
   "metadata": {},
   "outputs": [
    {
     "name": "stdout",
     "output_type": "stream",
     "text": [
      "Accuracy on training set: 1.000\n",
      "Accuracy on test set: 0.838\n"
     ]
    }
   ],
   "source": [
    "# RF\n",
    "from sklearn.ensemble import RandomForestClassifier\n",
    "\n",
    "rf = RandomForestClassifier(n_estimators=100, random_state=0)\n",
    "rf.fit(X_train, y_train)\n",
    "print(\"Accuracy on training set: {:.3f}\".format(rf.score(X_train, y_train)))\n",
    "print(\"Accuracy on test set: {:.3f}\".format(rf.score(X_test, y_test)))"
   ]
  },
  {
   "cell_type": "code",
   "execution_count": 18,
   "metadata": {},
   "outputs": [
    {
     "name": "stdout",
     "output_type": "stream",
     "text": [
      "Accuracy on training set: 0.874\n",
      "Accuracy on test set: 0.847\n"
     ]
    }
   ],
   "source": [
    "rf1 = RandomForestClassifier(max_depth=5, n_estimators=1000, random_state=0)\n",
    "rf1.fit(X_train, y_train)\n",
    "print(\"Accuracy on training set: {:.3f}\".format(rf1.score(X_train, y_train)))\n",
    "print(\"Accuracy on test set: {:.3f}\".format(rf1.score(X_test, y_test)))"
   ]
  },
  {
   "cell_type": "code",
   "execution_count": 19,
   "metadata": {},
   "outputs": [
    {
     "data": {
      "image/png": "[encoded data removed]",
      "text/plain": [
       "<Figure size 576x432 with 1 Axes>"
      ]
     },
     "metadata": {},
     "output_type": "display_data"
    }
   ],
   "source": [
    "# Feature importance in Random Forest\n",
    "plot_feature_importances_diabetes(rf)"
   ]
  },
  {
   "cell_type": "code",
   "execution_count": 24,
   "metadata": {},
   "outputs": [
    {
     "name": "stdout",
     "output_type": "stream",
     "text": [
      "Accuracy on training set: 0.902\n",
      "Accuracy on test set: 0.832\n"
     ]
    },
    {
     "data": {
      "image/png": "[encoded data removed]",
      "text/plain": [
       "<Figure size 576x432 with 1 Axes>"
      ]
     },
     "metadata": {},
     "output_type": "display_data"
    }
   ],
   "source": [
    "# GBDT\n",
    "from sklearn.ensemble import GradientBoostingClassifier\n",
    "\n",
    "gb = GradientBoostingClassifier(random_state=0)\n",
    "gb.fit(X_train, y_train)\n",
    "\n",
    "print(\"Accuracy on training set: {:.3f}\".format(gb.score(X_train, y_train)))\n",
    "print(\"Accuracy on test set: {:.3f}\".format(gb.score(X_test, y_test)))\n",
    "plot_feature_importances_diabetes(gb)"
   ]
  },
  {
   "cell_type": "code",
   "execution_count": 21,
   "metadata": {},
   "outputs": [
    {
     "data": {
      "text/plain": [
       "GradientBoostingClassifier(criterion='friedman_mse', init=None,\n",
       "              learning_rate=0.1, loss='deviance', max_depth=3,\n",
       "              max_features=None, max_leaf_nodes=None,\n",
       "              min_impurity_decrease=0.0, min_impurity_split=None,\n",
       "              min_samples_leaf=1, min_samples_split=2,\n",
       "              min_weight_fraction_leaf=0.0, n_estimators=100,\n",
       "              n_iter_no_change=None, presort='auto', random_state=0,\n",
       "              subsample=1.0, tol=0.0001, validation_fraction=0.1,\n",
       "              verbose=0, warm_start=False)"
      ]
     },
     "execution_count": 21,
     "metadata": {},
     "output_type": "execute_result"
    }
   ],
   "source": [
    "gb"
   ]
  },
  {
   "cell_type": "code",
   "execution_count": 22,
   "metadata": {},
   "outputs": [
    {
     "data": {
      "text/plain": [
       "({'n_estimators': 155}, 0.85)"
      ]
     },
     "execution_count": 22,
     "metadata": {},
     "output_type": "execute_result"
    }
   ],
   "source": [
    "from sklearn.model_selection import GridSearchCV\n",
    "\n",
    "param_test1 = {'n_estimators':range(10,200,5)}\n",
    "gsearch1 = GridSearchCV(estimator = GradientBoostingClassifier(learning_rate=0.1,random_state=1), \n",
    "                       param_grid = param_test1, scoring='accuracy',iid=False,cv=5)\n",
    "gsearch1.fit(X_train, y_train)\n",
    "gsearch1.best_params_,gsearch1.best_score_\n",
    "# 最好的迭代次数为155步"
   ]
  },
  {
   "cell_type": "code",
   "execution_count": 25,
   "metadata": {},
   "outputs": [
    {
     "name": "stdout",
     "output_type": "stream",
     "text": [
      "Accuracy on training set: 0.919\n",
      "Accuracy on test set: 0.832\n"
     ]
    },
    {
     "data": {
      "image/png": "[encoded data removed]",
      "text/plain": [
       "<Figure size 576x432 with 1 Axes>"
      ]
     },
     "metadata": {},
     "output_type": "display_data"
    }
   ],
   "source": [
    "gb1 = GradientBoostingClassifier(n_estimators=155,random_state=0)\n",
    "gb1.fit(X_train, y_train)\n",
    "\n",
    "print(\"Accuracy on training set: {:.3f}\".format(gb1.score(X_train, y_train)))\n",
    "print(\"Accuracy on test set: {:.3f}\".format(gb1.score(X_test, y_test)))\n",
    "plot_feature_importances_diabetes(gb1)"
   ]
  },
  {
   "cell_type": "code",
   "execution_count": 26,
   "metadata": {},
   "outputs": [
    {
     "data": {
      "text/plain": [
       "({'max_depth': 3}, 0.8495555555555556)"
      ]
     },
     "execution_count": 26,
     "metadata": {},
     "output_type": "execute_result"
    }
   ],
   "source": [
    "from sklearn.model_selection import GridSearchCV\n",
    "\n",
    "param_test2 = {'max_depth':range(3,10,1)}\n",
    "gsearch2 = GridSearchCV(estimator = GradientBoostingClassifier(learning_rate=0.1,n_estimators=155,random_state=2), \n",
    "                       param_grid = param_test2, scoring='accuracy',iid=False,cv=5)\n",
    "gsearch2.fit(X_train, y_train)\n",
    "gsearch2.best_params_,gsearch2.best_score_\n",
    "# 最大树深为3"
   ]
  },
  {
   "cell_type": "code",
   "execution_count": 27,
   "metadata": {},
   "outputs": [
    {
     "name": "stdout",
     "output_type": "stream",
     "text": [
      "Accuracy on training set: 0.919\n",
      "Accuracy on test set: 0.832\n"
     ]
    },
    {
     "data": {
      "image/png": "[encoded data removed]",
      "text/plain": [
       "<Figure size 576x432 with 1 Axes>"
      ]
     },
     "metadata": {},
     "output_type": "display_data"
    }
   ],
   "source": [
    "gb2 = GradientBoostingClassifier(n_estimators=155,max_depth=3,random_state=0)\n",
    "gb2.fit(X_train, y_train)\n",
    "\n",
    "print(\"Accuracy on training set: {:.3f}\".format(gb2.score(X_train, y_train)))\n",
    "print(\"Accuracy on test set: {:.3f}\".format(gb2.score(X_test, y_test)))\n",
    "plot_feature_importances_diabetes(gb2)"
   ]
  },
  {
   "cell_type": "code",
   "execution_count": 33,
   "metadata": {},
   "outputs": [
    {
     "name": "stderr",
     "output_type": "stream",
     "text": [
      "D:\\Anaconda\\lib\\site-packages\\sklearn\\svm\\base.py:196: FutureWarning: The default value of gamma will change from 'auto' to 'scale' in version 0.22 to account better for unscaled features. Set gamma explicitly to 'auto' or 'scale' to avoid this warning.\n",
      "  \"avoid this warning.\", FutureWarning)\n"
     ]
    },
    {
     "name": "stdout",
     "output_type": "stream",
     "text": [
      "Accuracy on training set: 0.99\n",
      "Accuracy on test set: 0.84\n"
     ]
    }
   ],
   "source": [
    "# Support Vector Machine\n",
    "from sklearn.svm import SVC\n",
    "\n",
    "svc = SVC()\n",
    "svc.fit(X_train, y_train)\n",
    "\n",
    "print(\"Accuracy on training set: {:.2f}\".format(svc.score(X_train, y_train)))\n",
    "print(\"Accuracy on test set: {:.2f}\".format(svc.score(X_test, y_test)))"
   ]
  },
  {
   "cell_type": "code",
   "execution_count": 34,
   "metadata": {},
   "outputs": [
    {
     "name": "stdout",
     "output_type": "stream",
     "text": [
      "Accuracy on training set: 0.99\n",
      "Accuracy on test set: 0.84\n"
     ]
    }
   ],
   "source": [
    "from sklearn.svm import SVC\n",
    "\n",
    "svc = SVC(gamma='auto')\n",
    "svc.fit(X_train, y_train)\n",
    "\n",
    "print(\"Accuracy on training set: {:.2f}\".format(svc.score(X_train, y_train)))\n",
    "print(\"Accuracy on test set: {:.2f}\".format(svc.score(X_test, y_test)))"
   ]
  },
  {
   "cell_type": "code",
   "execution_count": 36,
   "metadata": {},
   "outputs": [
    {
     "name": "stderr",
     "output_type": "stream",
     "text": [
      "D:\\Anaconda\\lib\\site-packages\\sklearn\\preprocessing\\data.py:323: DataConversionWarning: Data with input dtype int64, float64 were all converted to float64 by MinMaxScaler.\n",
      "  return self.partial_fit(X, y)\n",
      "D:\\Anaconda\\lib\\site-packages\\sklearn\\preprocessing\\data.py:323: DataConversionWarning: Data with input dtype int64, float64 were all converted to float64 by MinMaxScaler.\n",
      "  return self.partial_fit(X, y)\n"
     ]
    },
    {
     "name": "stdout",
     "output_type": "stream",
     "text": [
      "Accuracy on training set: 0.919\n",
      "Accuracy on test set: 0.833\n"
     ]
    }
   ],
   "source": [
    "# SVM requires all the features to vary on a similar scale.\n",
    "from sklearn.preprocessing import MinMaxScaler\n",
    "\n",
    "scaler = MinMaxScaler()\n",
    "X_train_scaled = scaler.fit_transform(X_train)\n",
    "X_test_scaled = scaler.fit_transform(X_test)\n",
    "\n",
    "svc = SVC(C=1000,gamma='auto')\n",
    "svc.fit(X_train_scaled, y_train)\n",
    "\n",
    "print(\"Accuracy on training set: {:.3f}\".format(\n",
    "    svc.score(X_train_scaled, y_train)))\n",
    "print(\"Accuracy on test set: {:.3f}\".format(svc.score(X_test_scaled, y_test)))"
   ]
  },
  {
   "cell_type": "code",
   "execution_count": 37,
   "metadata": {},
   "outputs": [
    {
     "name": "stdout",
     "output_type": "stream",
     "text": [
      "Accuracy on training set: 0.89\n",
      "Accuracy on test set: 0.83\n"
     ]
    }
   ],
   "source": [
    "# Neural Networks\n",
    "from sklearn.neural_network import MLPClassifier\n",
    "\n",
    "mlp = MLPClassifier(random_state=4)\n",
    "mlp.fit(X_train, y_train)\n",
    "\n",
    "print(\"Accuracy on training set: {:.2f}\".format(mlp.score(X_train, y_train)))\n",
    "print(\"Accuracy on test set: {:.2f}\".format(mlp.score(X_test, y_test)))"
   ]
  },
  {
   "cell_type": "code",
   "execution_count": 48,
   "metadata": {},
   "outputs": [
    {
     "name": "stderr",
     "output_type": "stream",
     "text": [
      "D:\\Anaconda\\lib\\site-packages\\sklearn\\preprocessing\\data.py:617: DataConversionWarning: Data with input dtype int64, float64 were all converted to float64 by StandardScaler.\n",
      "  return self.partial_fit(X, y)\n",
      "D:\\Anaconda\\lib\\site-packages\\sklearn\\base.py:462: DataConversionWarning: Data with input dtype int64, float64 were all converted to float64 by StandardScaler.\n",
      "  return self.fit(X, **fit_params).transform(X)\n",
      "D:\\Anaconda\\lib\\site-packages\\sklearn\\preprocessing\\data.py:617: DataConversionWarning: Data with input dtype int64, float64 were all converted to float64 by StandardScaler.\n",
      "  return self.partial_fit(X, y)\n",
      "D:\\Anaconda\\lib\\site-packages\\sklearn\\base.py:462: DataConversionWarning: Data with input dtype int64, float64 were all converted to float64 by StandardScaler.\n",
      "  return self.fit(X, **fit_params).transform(X)\n"
     ]
    },
    {
     "name": "stdout",
     "output_type": "stream",
     "text": [
      "alpha: 0.1\n",
      "Accuracy on training set: 0.982\n",
      "Accuracy on test set: 0.833\n",
      "alpha: 0.2\n",
      "Accuracy on training set: 0.965\n",
      "Accuracy on test set: 0.837\n",
      "alpha: 0.3\n",
      "Accuracy on training set: 0.949\n",
      "Accuracy on test set: 0.845\n",
      "alpha: 0.4\n",
      "Accuracy on training set: 0.924\n",
      "Accuracy on test set: 0.843\n",
      "alpha: 0.5\n",
      "Accuracy on training set: 0.915\n",
      "Accuracy on test set: 0.846\n",
      "alpha: 0.6\n",
      "Accuracy on training set: 0.904\n",
      "Accuracy on test set: 0.849\n",
      "alpha: 0.7\n",
      "Accuracy on training set: 0.897\n",
      "Accuracy on test set: 0.853\n",
      "alpha: 0.8\n",
      "Accuracy on training set: 0.887\n",
      "Accuracy on test set: 0.853\n",
      "alpha: 0.9\n",
      "Accuracy on training set: 0.889\n",
      "Accuracy on test set: 0.855\n",
      "alpha: 1.0\n",
      "Accuracy on training set: 0.876\n",
      "Accuracy on test set: 0.847\n",
      "alpha: 1.1\n",
      "Accuracy on training set: 0.874\n",
      "Accuracy on test set: 0.847\n",
      "alpha: 1.2\n",
      "Accuracy on training set: 0.873\n",
      "Accuracy on test set: 0.847\n",
      "alpha: 1.3\n",
      "Accuracy on training set: 0.872\n",
      "Accuracy on test set: 0.851\n",
      "alpha: 1.4\n",
      "Accuracy on training set: 0.872\n",
      "Accuracy on test set: 0.850\n",
      "alpha: 1.5\n",
      "Accuracy on training set: 0.871\n",
      "Accuracy on test set: 0.851\n",
      "alpha: 1.6\n",
      "Accuracy on training set: 0.869\n",
      "Accuracy on test set: 0.850\n",
      "alpha: 1.7\n",
      "Accuracy on training set: 0.868\n",
      "Accuracy on test set: 0.847\n",
      "alpha: 1.8\n",
      "Accuracy on training set: 0.867\n",
      "Accuracy on test set: 0.848\n",
      "alpha: 1.9\n",
      "Accuracy on training set: 0.866\n",
      "Accuracy on test set: 0.849\n"
     ]
    }
   ],
   "source": [
    "# We must rescale our data to have a mean of 0, and a variance of 1\n",
    "from sklearn.preprocessing import StandardScaler\n",
    "\n",
    "scaler = StandardScaler()\n",
    "X_train_scaled = scaler.fit_transform(X_train)\n",
    "X_test_scaled = scaler.fit_transform(X_test)\n",
    "\n",
    "alpha = [i/10.0 for i in range(1,20)]\n",
    "for k in range(0,19):\n",
    "    mlp = MLPClassifier(max_iter=1000, alpha=alpha[k], random_state=0)\n",
    "    mlp.fit(X_train_scaled, y_train)\n",
    "    print(\"alpha: \"+str(float(alpha[k])))\n",
    "    print(\"Accuracy on training set: {:.3f}\".format(mlp.score(X_train_scaled, y_train)))\n",
    "    print(\"Accuracy on test set: {:.3f}\".format(mlp.score(X_test_scaled, y_test)))"
   ]
  },
  {
   "cell_type": "code",
   "execution_count": 50,
   "metadata": {},
   "outputs": [
    {
     "name": "stdout",
     "output_type": "stream",
     "text": [
      "Accuracy on training set: 0.888\n",
      "Accuracy on test set: 0.851\n"
     ]
    }
   ],
   "source": [
    "# alpha=0.9最优\n",
    "mlp1 = MLPClassifier(max_iter=1000, alpha=0.9, random_state=1)\n",
    "mlp1.fit(X_train_scaled, y_train)\n",
    "\n",
    "print(\"Accuracy on training set: {:.3f}\".format(mlp1.score(X_train_scaled, y_train)))\n",
    "print(\"Accuracy on test set: {:.3f}\".format(mlp1.score(X_test_scaled, y_test)))"
   ]
  },
  {
   "cell_type": "code",
   "execution_count": 51,
   "metadata": {},
   "outputs": [
    {
     "data": {
      "text/plain": [
       "<matplotlib.colorbar.Colorbar at 0xc7716d8>"
      ]
     },
     "execution_count": 51,
     "metadata": {},
     "output_type": "execute_result"
    },
    {
     "data": {
      "image/png": "[encoded data removed]",
      "text/plain": [
       "<Figure size 1440x360 with 2 Axes>"
      ]
     },
     "metadata": {},
     "output_type": "display_data"
    }
   ],
   "source": [
    "plt.figure(figsize=(20, 5))\n",
    "plt.imshow(mlp1.coefs_[0], interpolation='none', cmap='viridis')\n",
    "plt.xlabel(\"Columns in weight matrix\")\n",
    "plt.ylabel(\"Input feature\")\n",
    "plt.colorbar()"
   ]
  },
  {
   "cell_type": "markdown",
   "metadata": {},
   "source": [
    "# Summary\n",
    "LR Algorithm:   Training set accuracy: 0.859 Test set accuracy: 0.857"
   ]
  },
  {
   "cell_type": "markdown",
   "metadata": {},
   "source": [
    "KNN Algorithm:  Training set accuracy: 0.86  Test set accuracy: 0.83"
   ]
  },
  {
   "cell_type": "markdown",
   "metadata": {},
   "source": [
    "Decision Tree:  Training set accuracy: 1.000 Test set accuracy: 0.791"
   ]
  },
  {
   "cell_type": "markdown",
   "metadata": {},
   "source": [
    "Random Forest:  Training set accuracy: 1.000 Test set accuracy: 0.838"
   ]
  },
  {
   "cell_type": "markdown",
   "metadata": {},
   "source": [
    "Random Forest1: Training set accuracy: 0.874 Test set accuracy: 0.847"
   ]
  },
  {
   "cell_type": "markdown",
   "metadata": {},
   "source": [
    "GBDT:           Training set accuracy: 0.902 Test set accuracy: 0.832"
   ]
  },
  {
   "cell_type": "markdown",
   "metadata": {},
   "source": [
    "GBDT1: Training set accuracy: 0.919 Test set accuracy: 0.832"
   ]
  },
  {
   "cell_type": "markdown",
   "metadata": {},
   "source": [
    "SVM:            Training set accuracy: 0.99  Test set accuracy: 0.84"
   ]
  },
  {
   "cell_type": "markdown",
   "metadata": {},
   "source": [
    "Neural Network: Training set accuracy: 0.89  Test set accuracy: 0.83"
   ]
  },
  {
   "cell_type": "markdown",
   "metadata": {},
   "source": [
    "Neural Network1: Training set accuracy: 0.888 Test set accuracy: 0.851"
   ]
  },
  {
   "cell_type": "markdown",
   "metadata": {},
   "source": [
    "# End"
   ]
  },
  {
   "cell_type": "code",
   "execution_count": null,
   "metadata": {},
   "outputs": [],
   "source": []
  }
 ],
 "metadata": {
  "kernelspec": {
   "display_name": "Python 3",
   "language": "python",
   "name": "python3"
  },
  "language_info": {
   "codemirror_mode": {
    "name": "ipython",
    "version": 3
   },
   "file_extension": ".py",
   "mimetype": "text/x-python",
   "name": "python",
   "nbconvert_exporter": "python",
   "pygments_lexer": "ipython3",
   "version": "3.7.0"
  }
 },
 "nbformat": 4,
 "nbformat_minor": 2
}
